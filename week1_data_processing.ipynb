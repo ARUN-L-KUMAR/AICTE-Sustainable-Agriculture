{
 "cells": [
  {
   "cell_type": "code",
   "execution_count": null,
   "id": "3bf7bce1",
   "metadata": {},
   "outputs": [
    {
     "name": "stdout",
     "output_type": "stream",
     "text": [
      "Classes found: ['Pepper__bell___Bacterial_spot', 'Pepper__bell___healthy', 'PlantVillage', 'Potato___Early_blight', 'Potato___healthy', 'Potato___Late_blight', 'Tomato_Bacterial_spot', 'Tomato_Early_blight', 'Tomato_healthy', 'Tomato_Late_blight', 'Tomato_Leaf_Mold', 'Tomato_Septoria_leaf_spot', 'Tomato_Spider_mites_Two_spotted_spider_mite', 'Tomato__Target_Spot', 'Tomato__Tomato_mosaic_virus', 'Tomato__Tomato_YellowLeaf__Curl_Virus']\n"
     ]
    }
   ],
   "source": [
    "# Week 1 - Data Processing for Crop Disease Detection\n",
    "\n",
    "# Import libraries\n",
    "import numpy as np\n",
    "import pandas as pd\n",
    "import matplotlib.pyplot as plt\n",
    "import seaborn as sns\n",
    "import os\n",
    "import cv2\n",
    "from sklearn.model_selection import train_test_split\n",
    "\n",
    "# Path to dataset (update this after downloading from Kaggle)\n",
    "data_dir = \"PlantVillage\"   # Example: \"./dataset/PlantVillage\"\n",
    "\n",
    "# List categories (folder names are labels)\n",
    "categories = os.listdir(data_dir)\n",
    "print(\"Classes found:\", categories)\n",
    "\n",
    "# Parameters\n",
    "img_size = 128   # resize images to 128x128\n",
    "X = []\n",
    "y = []\n",
    "\n",
    "# Load dataset (only first 200 per class for demo)\n",
    "for idx, category in enumerate(categories):\n",
    "    folder = os.path.join(data_dir, category)\n",
    "    for img in os.listdir(folder)[:200]:  \n",
    "        img_path = os.path.join(folder, img)\n",
    "        try:\n",
    "            img_array = cv2.imread(img_path)\n",
    "            img_array = cv2.resize(img_array, (img_size, img_size))\n",
    "            X.append(img_array)\n",
    "            y.append(idx)\n",
    "        except Exception as e:\n",
    "            pass\n",
    "\n",
    "# Convert to numpy arrays\n",
    "X = np.array(X) / 255.0   # normalize pixel values (0-1)\n",
    "y = np.array(y)\n",
    "\n",
    "print(\"Dataset Shape:\", X.shape, y.shape)\n",
    "\n",
    "# Split into training and testing sets\n",
    "X_train, X_test, y_train, y_test = train_test_split(\n",
    "    X, y, test_size=0.2, random_state=42, stratify=y\n",
    ")\n",
    "\n",
    "print(\"Training data:\", X_train.shape)\n",
    "print(\"Testing data:\", X_test.shape)\n",
    "\n",
    "# Plot class distribution\n",
    "plt.figure(figsize=(8,5))\n",
    "sns.countplot(x=y)\n",
    "plt.title(\"Class Distribution\")\n",
    "plt.xlabel(\"Class Index\")\n",
    "plt.ylabel(\"Count\")\n",
    "plt.show()\n",
    "\n",
    "# Plot sample images\n",
    "plt.figure(figsize=(10,5))\n",
    "for i in range(9):\n",
    "    plt.subplot(3,3,i+1)\n",
    "    plt.imshow(X_train[i])\n",
    "    plt.title(categories[y_train[i]])\n",
    "    plt.axis('off')\n",
    "plt.show()\n"
   ]
  }
 ],
 "metadata": {
  "kernelspec": {
   "display_name": "Python 3",
   "language": "python",
   "name": "python3"
  },
  "language_info": {
   "codemirror_mode": {
    "name": "ipython",
    "version": 3
   },
   "file_extension": ".py",
   "mimetype": "text/x-python",
   "name": "python",
   "nbconvert_exporter": "python",
   "pygments_lexer": "ipython3",
   "version": "3.12.9"
  }
 },
 "nbformat": 4,
 "nbformat_minor": 5
}
